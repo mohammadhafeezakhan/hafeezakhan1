{
 "cells": [
  {
   "cell_type": "code",
   "execution_count": 170,
   "id": "5829bba1",
   "metadata": {},
   "outputs": [],
   "source": [
    "from selenium import webdriver\n",
    "from selenium.webdriver.chrome.service import Service\n",
    "from selenium.webdriver.common.by import By"
   ]
  },
  {
   "cell_type": "code",
   "execution_count": 171,
   "id": "31139d76",
   "metadata": {},
   "outputs": [],
   "source": [
    "s = Service(r\"C:\\Users\\Dell\\OneDrive\\Desktop\\chromedriver.exe\")\n",
    "driver = webdriver.Chrome(service=s)\n",
    "driver.get(\"https://stackoverflow.com/questions/77030802/attributeerror-str-object-has-no-attribute-capabilities\")"
   ]
  },
  {
   "cell_type": "code",
   "execution_count": 172,
   "id": "2ff5c0af",
   "metadata": {},
   "outputs": [],
   "source": [
    "#to check the mail is spam or ham mail\n",
    "import numpy as np\n",
    "import pandas as pd\n",
    "import matplotlib.pyplot as plt\n",
    "from sklearn.model_selection import train_test_split\n",
    "from sklearn.linear_model import LogisticRegression\n",
    "from sklearn.metrics import accuracy_score"
   ]
  },
  {
   "cell_type": "code",
   "execution_count": 173,
   "id": "8d140209",
   "metadata": {},
   "outputs": [],
   "source": [
    "raw_mail_data=pd.read_csv(r\"C:\\Users\\Dell\\OneDrive\\Desktop\\soc2\\mail_data.csv\")"
   ]
  },
  {
   "cell_type": "code",
   "execution_count": 174,
   "id": "7a0adefd",
   "metadata": {},
   "outputs": [
    {
     "data": {
      "text/html": [
       "<div>\n",
       "<style scoped>\n",
       "    .dataframe tbody tr th:only-of-type {\n",
       "        vertical-align: middle;\n",
       "    }\n",
       "\n",
       "    .dataframe tbody tr th {\n",
       "        vertical-align: top;\n",
       "    }\n",
       "\n",
       "    .dataframe thead th {\n",
       "        text-align: right;\n",
       "    }\n",
       "</style>\n",
       "<table border=\"1\" class=\"dataframe\">\n",
       "  <thead>\n",
       "    <tr style=\"text-align: right;\">\n",
       "      <th></th>\n",
       "      <th>Category</th>\n",
       "      <th>Message</th>\n",
       "    </tr>\n",
       "  </thead>\n",
       "  <tbody>\n",
       "    <tr>\n",
       "      <th>0</th>\n",
       "      <td>ham</td>\n",
       "      <td>Go until jurong point, crazy.. Available only ...</td>\n",
       "    </tr>\n",
       "    <tr>\n",
       "      <th>1</th>\n",
       "      <td>ham</td>\n",
       "      <td>Ok lar... Joking wif u oni...</td>\n",
       "    </tr>\n",
       "    <tr>\n",
       "      <th>2</th>\n",
       "      <td>spam</td>\n",
       "      <td>Free entry in 2 a wkly comp to win FA Cup fina...</td>\n",
       "    </tr>\n",
       "    <tr>\n",
       "      <th>3</th>\n",
       "      <td>ham</td>\n",
       "      <td>U dun say so early hor... U c already then say...</td>\n",
       "    </tr>\n",
       "    <tr>\n",
       "      <th>4</th>\n",
       "      <td>ham</td>\n",
       "      <td>Nah I don't think he goes to usf, he lives aro...</td>\n",
       "    </tr>\n",
       "  </tbody>\n",
       "</table>\n",
       "</div>"
      ],
      "text/plain": [
       "  Category                                            Message\n",
       "0      ham  Go until jurong point, crazy.. Available only ...\n",
       "1      ham                      Ok lar... Joking wif u oni...\n",
       "2     spam  Free entry in 2 a wkly comp to win FA Cup fina...\n",
       "3      ham  U dun say so early hor... U c already then say...\n",
       "4      ham  Nah I don't think he goes to usf, he lives aro..."
      ]
     },
     "execution_count": 174,
     "metadata": {},
     "output_type": "execute_result"
    }
   ],
   "source": [
    "raw_mail_data.head()"
   ]
  },
  {
   "cell_type": "code",
   "execution_count": 175,
   "id": "ddba8a3a",
   "metadata": {},
   "outputs": [
    {
     "data": {
      "text/plain": [
       "Category    0\n",
       "Message     0\n",
       "dtype: int64"
      ]
     },
     "execution_count": 175,
     "metadata": {},
     "output_type": "execute_result"
    }
   ],
   "source": [
    "#To check and nan filed in column\n",
    "raw_mail_data.isna().sum()"
   ]
  },
  {
   "cell_type": "code",
   "execution_count": 176,
   "id": "37439987",
   "metadata": {},
   "outputs": [
    {
     "data": {
      "text/plain": [
       "(5572, 2)"
      ]
     },
     "execution_count": 176,
     "metadata": {},
     "output_type": "execute_result"
    }
   ],
   "source": [
    "#To convert categort field to numerical field 'spam'=0 and 'ham'=1\n",
    "raw_mail_data.shape"
   ]
  },
  {
   "cell_type": "code",
   "execution_count": 177,
   "id": "3ea00566",
   "metadata": {},
   "outputs": [],
   "source": [
    "#To convert categort field to numerical field 'spam'=0 and 'ham'=1\n",
    "raw_mail_data.loc[raw_mail_data['Category']=='spam','Category']=0"
   ]
  },
  {
   "cell_type": "code",
   "execution_count": 178,
   "id": "8bcfcf0e",
   "metadata": {},
   "outputs": [
    {
     "data": {
      "text/plain": [
       "0       ham\n",
       "1       ham\n",
       "2         0\n",
       "3       ham\n",
       "4       ham\n",
       "       ... \n",
       "5567      0\n",
       "5568    ham\n",
       "5569    ham\n",
       "5570    ham\n",
       "5571    ham\n",
       "Name: Category, Length: 5572, dtype: object"
      ]
     },
     "execution_count": 178,
     "metadata": {},
     "output_type": "execute_result"
    }
   ],
   "source": [
    "raw_mail_data['Category']"
   ]
  },
  {
   "cell_type": "code",
   "execution_count": 179,
   "id": "7eaabd3e",
   "metadata": {},
   "outputs": [],
   "source": [
    "raw_mail_data.loc[raw_mail_data['Category']=='ham','Category']=1"
   ]
  },
  {
   "cell_type": "code",
   "execution_count": 180,
   "id": "886662df",
   "metadata": {},
   "outputs": [
    {
     "data": {
      "text/plain": [
       "0       1\n",
       "1       1\n",
       "2       0\n",
       "3       1\n",
       "4       1\n",
       "       ..\n",
       "5567    0\n",
       "5568    1\n",
       "5569    1\n",
       "5570    1\n",
       "5571    1\n",
       "Name: Category, Length: 5572, dtype: object"
      ]
     },
     "execution_count": 180,
     "metadata": {},
     "output_type": "execute_result"
    }
   ],
   "source": [
    "raw_mail_data['Category']"
   ]
  },
  {
   "cell_type": "code",
   "execution_count": 181,
   "id": "0a54ba9a",
   "metadata": {},
   "outputs": [],
   "source": [
    "Y=raw_mail_data['Category']"
   ]
  },
  {
   "cell_type": "code",
   "execution_count": 182,
   "id": "df8cba46",
   "metadata": {},
   "outputs": [],
   "source": [
    "X=raw_mail_data['Message']"
   ]
  },
  {
   "cell_type": "code",
   "execution_count": 183,
   "id": "ad3edd9d",
   "metadata": {},
   "outputs": [
    {
     "data": {
      "text/plain": [
       "0       Go until jurong point, crazy.. Available only ...\n",
       "1                           Ok lar... Joking wif u oni...\n",
       "2       Free entry in 2 a wkly comp to win FA Cup fina...\n",
       "3       U dun say so early hor... U c already then say...\n",
       "4       Nah I don't think he goes to usf, he lives aro...\n",
       "                              ...                        \n",
       "5567    This is the 2nd time we have tried 2 contact u...\n",
       "5568                 Will ü b going to esplanade fr home?\n",
       "5569    Pity, * was in mood for that. So...any other s...\n",
       "5570    The guy did some bitching but I acted like i'd...\n",
       "5571                           Rofl. Its true to its name\n",
       "Name: Message, Length: 5572, dtype: object"
      ]
     },
     "execution_count": 183,
     "metadata": {},
     "output_type": "execute_result"
    }
   ],
   "source": [
    "X"
   ]
  },
  {
   "cell_type": "code",
   "execution_count": 184,
   "id": "037657bd",
   "metadata": {},
   "outputs": [],
   "source": [
    "#Convert to train  and test split\n",
    "x_train,x_test,y_train,y_test=train_test_split(X,Y,test_size=0.2)"
   ]
  },
  {
   "cell_type": "code",
   "execution_count": 185,
   "id": "88d8dfc1",
   "metadata": {},
   "outputs": [
    {
     "data": {
      "text/plain": [
       "(4457,)"
      ]
     },
     "execution_count": 185,
     "metadata": {},
     "output_type": "execute_result"
    }
   ],
   "source": [
    "x_train.shape"
   ]
  },
  {
   "cell_type": "code",
   "execution_count": 186,
   "id": "55264a79",
   "metadata": {},
   "outputs": [
    {
     "data": {
      "text/plain": [
       "(1115,)"
      ]
     },
     "execution_count": 186,
     "metadata": {},
     "output_type": "execute_result"
    }
   ],
   "source": [
    "x_test.shape"
   ]
  },
  {
   "cell_type": "code",
   "execution_count": 187,
   "id": "e7023071",
   "metadata": {},
   "outputs": [
    {
     "data": {
      "text/plain": [
       "(1115,)"
      ]
     },
     "execution_count": 187,
     "metadata": {},
     "output_type": "execute_result"
    }
   ],
   "source": [
    "y_test.shape"
   ]
  },
  {
   "cell_type": "code",
   "execution_count": 188,
   "id": "efdabeef",
   "metadata": {},
   "outputs": [
    {
     "data": {
      "text/plain": [
       "(4457,)"
      ]
     },
     "execution_count": 188,
     "metadata": {},
     "output_type": "execute_result"
    }
   ],
   "source": [
    "y_train.shape"
   ]
  },
  {
   "cell_type": "code",
   "execution_count": 189,
   "id": "ef48e9f6",
   "metadata": {},
   "outputs": [],
   "source": [
    "from sklearn.feature_extraction.text import TfidfVectorizer"
   ]
  },
  {
   "cell_type": "code",
   "execution_count": 190,
   "id": "33bc7078",
   "metadata": {},
   "outputs": [],
   "source": [
    "#Term Frequency Inverse Document Frequency ---->It is a numerical representation of text document to capture the important words\n",
    "#in a collection of documents"
   ]
  },
  {
   "cell_type": "code",
   "execution_count": 191,
   "id": "aa1d5ad8",
   "metadata": {},
   "outputs": [],
   "source": [
    "feature_extraction=TfidfVectorizer()\n",
    "x_train_feature=feature_extraction.fit_transform(x_train)"
   ]
  },
  {
   "cell_type": "code",
   "execution_count": 192,
   "id": "a6718907",
   "metadata": {},
   "outputs": [
    {
     "name": "stdout",
     "output_type": "stream",
     "text": [
      "  (0, 312)\t0.26860708473061706\n",
      "  (0, 876)\t0.2453809743880352\n",
      "  (0, 349)\t0.26860708473061706\n",
      "  (0, 6242)\t0.26860708473061706\n",
      "  (0, 1927)\t0.18534235011484912\n",
      "  (0, 4070)\t0.24143427755457264\n",
      "  (0, 7684)\t0.17269990174330377\n",
      "  (0, 7112)\t0.26860708473061706\n",
      "  (0, 696)\t0.2291124842061632\n",
      "  (0, 6981)\t0.07363636791891033\n",
      "  (0, 2462)\t0.1940639667211482\n",
      "  (0, 7637)\t0.19999259525192317\n",
      "  (0, 6858)\t0.08983646766302976\n",
      "  (0, 7143)\t0.1504451114159514\n",
      "  (0, 4874)\t0.11497310400703444\n",
      "  (0, 6496)\t0.23790383693380415\n",
      "  (0, 7490)\t0.16354233559773124\n",
      "  (0, 2681)\t0.17958395833064644\n",
      "  (0, 7373)\t0.21639647226125058\n",
      "  (0, 3152)\t0.21148405457611238\n",
      "  (0, 4684)\t0.21467772659122222\n",
      "  (0, 4922)\t0.1106486332262138\n",
      "  (0, 264)\t0.1949820568694088\n",
      "  (0, 7570)\t0.17731134560067485\n",
      "  (0, 1654)\t0.11954533405746037\n",
      "  :\t:\n",
      "  (4453, 7749)\t0.09115230507955173\n",
      "  (4454, 887)\t0.43430365558225464\n",
      "  (4454, 6951)\t0.3743089627418204\n",
      "  (4454, 4171)\t0.3644015393880028\n",
      "  (4454, 6889)\t0.3280403478298765\n",
      "  (4454, 7505)\t0.2816174891865968\n",
      "  (4454, 2962)\t0.18847052950651383\n",
      "  (4454, 3201)\t0.2455157426610238\n",
      "  (4454, 7568)\t0.2191586628733605\n",
      "  (4454, 925)\t0.23994707743001795\n",
      "  (4454, 6950)\t0.24932282580077986\n",
      "  (4454, 2391)\t0.2228157125322733\n",
      "  (4454, 4922)\t0.19583876058513175\n",
      "  (4455, 6757)\t0.5349741877620733\n",
      "  (4455, 3879)\t0.5591145842435965\n",
      "  (4455, 4973)\t0.30869175858030523\n",
      "  (4455, 1750)\t0.480294006075722\n",
      "  (4455, 4824)\t0.2742636797440616\n",
      "  (4456, 1778)\t0.609528678941672\n",
      "  (4456, 2320)\t0.36326773672387497\n",
      "  (4456, 2209)\t0.3678774800838975\n",
      "  (4456, 4945)\t0.30177248779582416\n",
      "  (4456, 1629)\t0.2533354185321736\n",
      "  (4456, 7749)\t0.34315273599376483\n",
      "  (4456, 3545)\t0.29694819709319065\n"
     ]
    }
   ],
   "source": [
    "print(x_train_feature)"
   ]
  },
  {
   "cell_type": "code",
   "execution_count": 193,
   "id": "38c07487",
   "metadata": {},
   "outputs": [],
   "source": [
    "x_test_feature=feature_extraction.transform(x_test)"
   ]
  },
  {
   "cell_type": "code",
   "execution_count": 194,
   "id": "ecf100f2",
   "metadata": {},
   "outputs": [
    {
     "name": "stdout",
     "output_type": "stream",
     "text": [
      "  (0, 7639)\t0.5961306440803704\n",
      "  (0, 5277)\t0.5537413253239432\n",
      "  (0, 1629)\t0.3885251556035626\n",
      "  (0, 1124)\t0.43248931001821656\n",
      "  (1, 7576)\t0.5717111143701867\n",
      "  (1, 6981)\t0.17436931651752513\n",
      "  (1, 4695)\t0.2529450914766538\n",
      "  (1, 4246)\t0.3474253650829243\n",
      "  (1, 4016)\t0.6360557303399349\n",
      "  (1, 973)\t0.2312774253129914\n",
      "  (2, 7749)\t0.11436554037142312\n",
      "  (2, 7623)\t0.2619493072022493\n",
      "  (2, 7008)\t0.25909315088198526\n",
      "  (2, 6134)\t0.3008929130716232\n",
      "  (2, 5646)\t0.26122003760372275\n",
      "  (2, 4759)\t0.230630853211329\n",
      "  (2, 4135)\t0.21168964888119027\n",
      "  (2, 3979)\t0.21114757566411607\n",
      "  (2, 3896)\t0.18763041376052528\n",
      "  (2, 1306)\t0.5487458752784489\n",
      "  (2, 1278)\t0.1888310910216911\n",
      "  (2, 1174)\t0.39497633732522125\n",
      "  (2, 973)\t0.14773042077999385\n",
      "  (3, 3658)\t0.23954194972010628\n",
      "  (3, 1922)\t0.5567001784576426\n",
      "  :\t:\n",
      "  (1112, 5173)\t0.26435080969660635\n",
      "  (1112, 5023)\t0.25879431972162675\n",
      "  (1112, 4967)\t0.2114417735272756\n",
      "  (1112, 3763)\t0.13760677074677435\n",
      "  (1112, 2424)\t0.21534775848567828\n",
      "  (1112, 1596)\t0.16474235355203198\n",
      "  (1112, 1115)\t0.36924862878051296\n",
      "  (1112, 996)\t0.3226512310499653\n",
      "  (1113, 7749)\t0.1815992394896606\n",
      "  (1113, 7231)\t0.31731946863063926\n",
      "  (1113, 6858)\t0.2157674373580912\n",
      "  (1113, 3979)\t0.3352779083293716\n",
      "  (1113, 2962)\t0.2557549739964071\n",
      "  (1113, 1744)\t0.6682875976052485\n",
      "  (1113, 1061)\t0.28595352028965165\n",
      "  (1113, 945)\t0.33700871294969154\n",
      "  (1114, 7749)\t0.26571082330174123\n",
      "  (1114, 7526)\t0.23629807067275935\n",
      "  (1114, 7447)\t0.35533521492786857\n",
      "  (1114, 5962)\t0.30261722576697725\n",
      "  (1114, 3139)\t0.21679547929444007\n",
      "  (1114, 2491)\t0.512782446625582\n",
      "  (1114, 1714)\t0.39414996043534234\n",
      "  (1114, 1336)\t0.3426045352534536\n",
      "  (1114, 1094)\t0.2702637666811175\n"
     ]
    }
   ],
   "source": [
    "print(x_test_feature)"
   ]
  },
  {
   "cell_type": "code",
   "execution_count": 195,
   "id": "2ca95920",
   "metadata": {},
   "outputs": [
    {
     "data": {
      "text/plain": [
       "dtype('O')"
      ]
     },
     "execution_count": 195,
     "metadata": {},
     "output_type": "execute_result"
    }
   ],
   "source": [
    "#Check the data type ofy_train and y_test\n",
    "y_train.dtype"
   ]
  },
  {
   "cell_type": "code",
   "execution_count": 196,
   "id": "affca471",
   "metadata": {},
   "outputs": [],
   "source": [
    "y_train=y_train.astype('int')\n",
    "y_test=y_test.astype('int')"
   ]
  },
  {
   "cell_type": "code",
   "execution_count": 197,
   "id": "1e0de500",
   "metadata": {},
   "outputs": [
    {
     "data": {
      "text/plain": [
       "dtype('int32')"
      ]
     },
     "execution_count": 197,
     "metadata": {},
     "output_type": "execute_result"
    }
   ],
   "source": [
    "y_train.dtype"
   ]
  },
  {
   "cell_type": "code",
   "execution_count": 198,
   "id": "8ae89f54",
   "metadata": {},
   "outputs": [
    {
     "data": {
      "text/plain": [
       "dtype('int32')"
      ]
     },
     "execution_count": 198,
     "metadata": {},
     "output_type": "execute_result"
    }
   ],
   "source": [
    "y_test.dtype"
   ]
  },
  {
   "cell_type": "code",
   "execution_count": 199,
   "id": "4bc1b3f9",
   "metadata": {},
   "outputs": [],
   "source": [
    "#Create instance for Logestic Regression\n",
    "model=LogisticRegression()"
   ]
  },
  {
   "cell_type": "code",
   "execution_count": 200,
   "id": "e4b7e65c",
   "metadata": {},
   "outputs": [
    {
     "data": {
      "text/html": [
       "<style>#sk-container-id-7 {color: black;}#sk-container-id-7 pre{padding: 0;}#sk-container-id-7 div.sk-toggleable {background-color: white;}#sk-container-id-7 label.sk-toggleable__label {cursor: pointer;display: block;width: 100%;margin-bottom: 0;padding: 0.3em;box-sizing: border-box;text-align: center;}#sk-container-id-7 label.sk-toggleable__label-arrow:before {content: \"▸\";float: left;margin-right: 0.25em;color: #696969;}#sk-container-id-7 label.sk-toggleable__label-arrow:hover:before {color: black;}#sk-container-id-7 div.sk-estimator:hover label.sk-toggleable__label-arrow:before {color: black;}#sk-container-id-7 div.sk-toggleable__content {max-height: 0;max-width: 0;overflow: hidden;text-align: left;background-color: #f0f8ff;}#sk-container-id-7 div.sk-toggleable__content pre {margin: 0.2em;color: black;border-radius: 0.25em;background-color: #f0f8ff;}#sk-container-id-7 input.sk-toggleable__control:checked~div.sk-toggleable__content {max-height: 200px;max-width: 100%;overflow: auto;}#sk-container-id-7 input.sk-toggleable__control:checked~label.sk-toggleable__label-arrow:before {content: \"▾\";}#sk-container-id-7 div.sk-estimator input.sk-toggleable__control:checked~label.sk-toggleable__label {background-color: #d4ebff;}#sk-container-id-7 div.sk-label input.sk-toggleable__control:checked~label.sk-toggleable__label {background-color: #d4ebff;}#sk-container-id-7 input.sk-hidden--visually {border: 0;clip: rect(1px 1px 1px 1px);clip: rect(1px, 1px, 1px, 1px);height: 1px;margin: -1px;overflow: hidden;padding: 0;position: absolute;width: 1px;}#sk-container-id-7 div.sk-estimator {font-family: monospace;background-color: #f0f8ff;border: 1px dotted black;border-radius: 0.25em;box-sizing: border-box;margin-bottom: 0.5em;}#sk-container-id-7 div.sk-estimator:hover {background-color: #d4ebff;}#sk-container-id-7 div.sk-parallel-item::after {content: \"\";width: 100%;border-bottom: 1px solid gray;flex-grow: 1;}#sk-container-id-7 div.sk-label:hover label.sk-toggleable__label {background-color: #d4ebff;}#sk-container-id-7 div.sk-serial::before {content: \"\";position: absolute;border-left: 1px solid gray;box-sizing: border-box;top: 0;bottom: 0;left: 50%;z-index: 0;}#sk-container-id-7 div.sk-serial {display: flex;flex-direction: column;align-items: center;background-color: white;padding-right: 0.2em;padding-left: 0.2em;position: relative;}#sk-container-id-7 div.sk-item {position: relative;z-index: 1;}#sk-container-id-7 div.sk-parallel {display: flex;align-items: stretch;justify-content: center;background-color: white;position: relative;}#sk-container-id-7 div.sk-item::before, #sk-container-id-7 div.sk-parallel-item::before {content: \"\";position: absolute;border-left: 1px solid gray;box-sizing: border-box;top: 0;bottom: 0;left: 50%;z-index: -1;}#sk-container-id-7 div.sk-parallel-item {display: flex;flex-direction: column;z-index: 1;position: relative;background-color: white;}#sk-container-id-7 div.sk-parallel-item:first-child::after {align-self: flex-end;width: 50%;}#sk-container-id-7 div.sk-parallel-item:last-child::after {align-self: flex-start;width: 50%;}#sk-container-id-7 div.sk-parallel-item:only-child::after {width: 0;}#sk-container-id-7 div.sk-dashed-wrapped {border: 1px dashed gray;margin: 0 0.4em 0.5em 0.4em;box-sizing: border-box;padding-bottom: 0.4em;background-color: white;}#sk-container-id-7 div.sk-label label {font-family: monospace;font-weight: bold;display: inline-block;line-height: 1.2em;}#sk-container-id-7 div.sk-label-container {text-align: center;}#sk-container-id-7 div.sk-container {/* jupyter's `normalize.less` sets `[hidden] { display: none; }` but bootstrap.min.css set `[hidden] { display: none !important; }` so we also need the `!important` here to be able to override the default hidden behavior on the sphinx rendered scikit-learn.org. See: https://github.com/scikit-learn/scikit-learn/issues/21755 */display: inline-block !important;position: relative;}#sk-container-id-7 div.sk-text-repr-fallback {display: none;}</style><div id=\"sk-container-id-7\" class=\"sk-top-container\"><div class=\"sk-text-repr-fallback\"><pre>LogisticRegression()</pre><b>In a Jupyter environment, please rerun this cell to show the HTML representation or trust the notebook. <br />On GitHub, the HTML representation is unable to render, please try loading this page with nbviewer.org.</b></div><div class=\"sk-container\" hidden><div class=\"sk-item\"><div class=\"sk-estimator sk-toggleable\"><input class=\"sk-toggleable__control sk-hidden--visually\" id=\"sk-estimator-id-7\" type=\"checkbox\" checked><label for=\"sk-estimator-id-7\" class=\"sk-toggleable__label sk-toggleable__label-arrow\">LogisticRegression</label><div class=\"sk-toggleable__content\"><pre>LogisticRegression()</pre></div></div></div></div></div>"
      ],
      "text/plain": [
       "LogisticRegression()"
      ]
     },
     "execution_count": 200,
     "metadata": {},
     "output_type": "execute_result"
    }
   ],
   "source": [
    "model"
   ]
  },
  {
   "cell_type": "code",
   "execution_count": 201,
   "id": "ebd92823",
   "metadata": {},
   "outputs": [
    {
     "data": {
      "text/html": [
       "<style>#sk-container-id-8 {color: black;}#sk-container-id-8 pre{padding: 0;}#sk-container-id-8 div.sk-toggleable {background-color: white;}#sk-container-id-8 label.sk-toggleable__label {cursor: pointer;display: block;width: 100%;margin-bottom: 0;padding: 0.3em;box-sizing: border-box;text-align: center;}#sk-container-id-8 label.sk-toggleable__label-arrow:before {content: \"▸\";float: left;margin-right: 0.25em;color: #696969;}#sk-container-id-8 label.sk-toggleable__label-arrow:hover:before {color: black;}#sk-container-id-8 div.sk-estimator:hover label.sk-toggleable__label-arrow:before {color: black;}#sk-container-id-8 div.sk-toggleable__content {max-height: 0;max-width: 0;overflow: hidden;text-align: left;background-color: #f0f8ff;}#sk-container-id-8 div.sk-toggleable__content pre {margin: 0.2em;color: black;border-radius: 0.25em;background-color: #f0f8ff;}#sk-container-id-8 input.sk-toggleable__control:checked~div.sk-toggleable__content {max-height: 200px;max-width: 100%;overflow: auto;}#sk-container-id-8 input.sk-toggleable__control:checked~label.sk-toggleable__label-arrow:before {content: \"▾\";}#sk-container-id-8 div.sk-estimator input.sk-toggleable__control:checked~label.sk-toggleable__label {background-color: #d4ebff;}#sk-container-id-8 div.sk-label input.sk-toggleable__control:checked~label.sk-toggleable__label {background-color: #d4ebff;}#sk-container-id-8 input.sk-hidden--visually {border: 0;clip: rect(1px 1px 1px 1px);clip: rect(1px, 1px, 1px, 1px);height: 1px;margin: -1px;overflow: hidden;padding: 0;position: absolute;width: 1px;}#sk-container-id-8 div.sk-estimator {font-family: monospace;background-color: #f0f8ff;border: 1px dotted black;border-radius: 0.25em;box-sizing: border-box;margin-bottom: 0.5em;}#sk-container-id-8 div.sk-estimator:hover {background-color: #d4ebff;}#sk-container-id-8 div.sk-parallel-item::after {content: \"\";width: 100%;border-bottom: 1px solid gray;flex-grow: 1;}#sk-container-id-8 div.sk-label:hover label.sk-toggleable__label {background-color: #d4ebff;}#sk-container-id-8 div.sk-serial::before {content: \"\";position: absolute;border-left: 1px solid gray;box-sizing: border-box;top: 0;bottom: 0;left: 50%;z-index: 0;}#sk-container-id-8 div.sk-serial {display: flex;flex-direction: column;align-items: center;background-color: white;padding-right: 0.2em;padding-left: 0.2em;position: relative;}#sk-container-id-8 div.sk-item {position: relative;z-index: 1;}#sk-container-id-8 div.sk-parallel {display: flex;align-items: stretch;justify-content: center;background-color: white;position: relative;}#sk-container-id-8 div.sk-item::before, #sk-container-id-8 div.sk-parallel-item::before {content: \"\";position: absolute;border-left: 1px solid gray;box-sizing: border-box;top: 0;bottom: 0;left: 50%;z-index: -1;}#sk-container-id-8 div.sk-parallel-item {display: flex;flex-direction: column;z-index: 1;position: relative;background-color: white;}#sk-container-id-8 div.sk-parallel-item:first-child::after {align-self: flex-end;width: 50%;}#sk-container-id-8 div.sk-parallel-item:last-child::after {align-self: flex-start;width: 50%;}#sk-container-id-8 div.sk-parallel-item:only-child::after {width: 0;}#sk-container-id-8 div.sk-dashed-wrapped {border: 1px dashed gray;margin: 0 0.4em 0.5em 0.4em;box-sizing: border-box;padding-bottom: 0.4em;background-color: white;}#sk-container-id-8 div.sk-label label {font-family: monospace;font-weight: bold;display: inline-block;line-height: 1.2em;}#sk-container-id-8 div.sk-label-container {text-align: center;}#sk-container-id-8 div.sk-container {/* jupyter's `normalize.less` sets `[hidden] { display: none; }` but bootstrap.min.css set `[hidden] { display: none !important; }` so we also need the `!important` here to be able to override the default hidden behavior on the sphinx rendered scikit-learn.org. See: https://github.com/scikit-learn/scikit-learn/issues/21755 */display: inline-block !important;position: relative;}#sk-container-id-8 div.sk-text-repr-fallback {display: none;}</style><div id=\"sk-container-id-8\" class=\"sk-top-container\"><div class=\"sk-text-repr-fallback\"><pre>LogisticRegression()</pre><b>In a Jupyter environment, please rerun this cell to show the HTML representation or trust the notebook. <br />On GitHub, the HTML representation is unable to render, please try loading this page with nbviewer.org.</b></div><div class=\"sk-container\" hidden><div class=\"sk-item\"><div class=\"sk-estimator sk-toggleable\"><input class=\"sk-toggleable__control sk-hidden--visually\" id=\"sk-estimator-id-8\" type=\"checkbox\" checked><label for=\"sk-estimator-id-8\" class=\"sk-toggleable__label sk-toggleable__label-arrow\">LogisticRegression</label><div class=\"sk-toggleable__content\"><pre>LogisticRegression()</pre></div></div></div></div></div>"
      ],
      "text/plain": [
       "LogisticRegression()"
      ]
     },
     "execution_count": 201,
     "metadata": {},
     "output_type": "execute_result"
    }
   ],
   "source": [
    "model.fit(x_train_feature,y_train)"
   ]
  },
  {
   "cell_type": "code",
   "execution_count": 202,
   "id": "119acad3",
   "metadata": {},
   "outputs": [],
   "source": [
    "#Process of testing the model\n",
    "prediction=model.predict(x_test_feature)"
   ]
  },
  {
   "cell_type": "code",
   "execution_count": 203,
   "id": "b8df5ca1",
   "metadata": {},
   "outputs": [
    {
     "data": {
      "text/plain": [
       "array([1, 1, 1, ..., 1, 1, 1])"
      ]
     },
     "execution_count": 203,
     "metadata": {},
     "output_type": "execute_result"
    }
   ],
   "source": [
    "prediction"
   ]
  },
  {
   "cell_type": "code",
   "execution_count": 204,
   "id": "b72fb05a",
   "metadata": {},
   "outputs": [],
   "source": [
    "acc=accuracy_score(prediction,y_test)"
   ]
  },
  {
   "cell_type": "code",
   "execution_count": 205,
   "id": "037f5219",
   "metadata": {},
   "outputs": [
    {
     "name": "stdout",
     "output_type": "stream",
     "text": [
      "The accuracy of the above model is= 0.9739910313901345\n"
     ]
    }
   ],
   "source": [
    "print(\"The accuracy of the above model is=\",acc)"
   ]
  },
  {
   "cell_type": "code",
   "execution_count": 206,
   "id": "1348cec8",
   "metadata": {},
   "outputs": [
    {
     "data": {
      "text/plain": [
       "\"They don't put that stuff on the roads to keep it from getting slippery over there?\""
      ]
     },
     "execution_count": 206,
     "metadata": {},
     "output_type": "execute_result"
    }
   ],
   "source": [
    "#---->Real time verification\n",
    "#input_mail=[\"\"]\n",
    "raw_mail_data['Message'][467]"
   ]
  },
  {
   "cell_type": "code",
   "execution_count": 207,
   "id": "61968566",
   "metadata": {},
   "outputs": [
    {
     "data": {
      "text/plain": [
       "1"
      ]
     },
     "execution_count": 207,
     "metadata": {},
     "output_type": "execute_result"
    }
   ],
   "source": [
    "raw_mail_data['Category'][467]"
   ]
  },
  {
   "cell_type": "code",
   "execution_count": 208,
   "id": "4565738f",
   "metadata": {},
   "outputs": [],
   "source": [
    "input_mail=[\"They don't put that stuff on the roads to keep it from getting slippery over there?\"]"
   ]
  },
  {
   "cell_type": "code",
   "execution_count": 209,
   "id": "cc90aebf",
   "metadata": {},
   "outputs": [
    {
     "name": "stdout",
     "output_type": "stream",
     "text": [
      "  (0, 6981)\t0.10624104626982624\n",
      "  (0, 6885)\t0.23290115841443237\n",
      "  (0, 6878)\t0.2071320335747085\n",
      "  (0, 6858)\t0.12961421899863484\n",
      "  (0, 6854)\t0.16231572038208172\n",
      "  (0, 6591)\t0.2813161255924597\n",
      "  (0, 6271)\t0.42105096784493573\n",
      "  (0, 5836)\t0.38754081065886065\n",
      "  (0, 5547)\t0.29704865123243257\n",
      "  (0, 5052)\t0.2654346169760573\n",
      "  (0, 4962)\t0.16526809898811962\n",
      "  (0, 3931)\t0.2608268522815578\n",
      "  (0, 3774)\t0.15421307104971535\n",
      "  (0, 3146)\t0.27386372059648356\n",
      "  (0, 3043)\t0.1946936258731843\n",
      "  (0, 2424)\t0.22601585596331583\n"
     ]
    }
   ],
   "source": [
    "input_data_feature=feature_extraction.transform(input_mail)\n",
    "print(input_data_feature)"
   ]
  },
  {
   "cell_type": "code",
   "execution_count": 210,
   "id": "3a59b129",
   "metadata": {},
   "outputs": [],
   "source": [
    "prediction=model.predict(input_data_feature)"
   ]
  },
  {
   "cell_type": "code",
   "execution_count": 211,
   "id": "fb88eac2",
   "metadata": {},
   "outputs": [
    {
     "data": {
      "text/plain": [
       "array([1])"
      ]
     },
     "execution_count": 211,
     "metadata": {},
     "output_type": "execute_result"
    }
   ],
   "source": [
    "prediction"
   ]
  },
  {
   "cell_type": "code",
   "execution_count": 212,
   "id": "52ff6808",
   "metadata": {},
   "outputs": [
    {
     "name": "stdout",
     "output_type": "stream",
     "text": [
      "Its Ham mail\n"
     ]
    }
   ],
   "source": [
    "prediction=model.predict(input_data_feature)\n",
    "if prediction[0]==1:\n",
    "    print(\"Its Ham mail\")\n",
    "else:\n",
    "    print(\"Its Spam mail\")"
   ]
  },
  {
   "cell_type": "code",
   "execution_count": 213,
   "id": "985b3383",
   "metadata": {},
   "outputs": [],
   "source": [
    "from selenium import webdriver as wb\n",
    "#webD=wb.Chrome(r\"C:\\Users\\Dell\\OneDrive\\Desktop\\chromedriver.exe\")"
   ]
  },
  {
   "cell_type": "code",
   "execution_count": 214,
   "id": "763db9cb",
   "metadata": {},
   "outputs": [],
   "source": [
    "from selenium import webdriver as wb"
   ]
  },
  {
   "cell_type": "code",
   "execution_count": 215,
   "id": "a94a33df",
   "metadata": {},
   "outputs": [],
   "source": [
    "from selenium import webdriver\n",
    "from selenium.webdriver.chrome.service import Service\n",
    "from selenium.webdriver.common.by import By"
   ]
  },
  {
   "cell_type": "code",
   "execution_count": 275,
   "id": "9b725810",
   "metadata": {},
   "outputs": [],
   "source": [
    "s = Service(r\"C:\\Users\\Dell\\OneDrive\\Desktop\\chromedriver.exe\")\n",
    "webD = webdriver.Chrome(service=s)\n",
    "webD.get('https://books.toscrape.com/')\n",
    "\n",
    "class_name=webD.find_element(By.CLASS_NAME,'side_categories > ul')\n",
    "list1=class_name.find_elements(By.TAG_NAME,'li')\n",
    "link =\"\"\n",
    "for val in list1:\n",
    "    a = val.find_element(By.TAG_NAME, 'a')\n",
    "    if a.text == \"Travel\":\n",
    "        link = a.get_attribute('href')\n",
    "webD.get(str(link))\n",
    "\n",
    "\n",
    "# class_name=webD.find_element(By.CLASS_NAME,'side_categories > ul')\n",
    "# list1=class_name.find_elements(By.TAG_NAME,'li')\n",
    "# link =\"\"\n",
    "# for val in list1:\n",
    "#     a = val.find_element(By.TAG_NAME, 'a')\n",
    "#     if a.text == \"Mystery\":\n",
    "#         link = a.get_attribute('href')\n",
    "        \n",
    "# webD.get(str(link))"
   ]
  },
  {
   "cell_type": "code",
   "execution_count": 226,
   "id": "7bd6988f",
   "metadata": {},
   "outputs": [],
   "source": [
    "#! to find the elements from webpage\n",
    "#? to find element by name attribute\n",
    "#element=webD.find_element_by_name(\"element name\")\n",
    "\n",
    "#? to find the element by link\n",
    "#element=webD.find_element_by_link('link')\n",
    "\n",
    "#? to find the element by tagname\n",
    "#element=webD.find_element_by_tag_name('link')\n",
    "\n",
    "#? to find the element by xpath\n",
    "#element=webD.find_element_by_xpath('path')\n",
    "\n",
    "#? to find the element by classname\n",
    "#element=webD.find_element_by_class_name('classname')\n",
    "\n",
    "#? to find the element by id\n",
    "#element=webD.find_element_by_id('link')"
   ]
  },
  {
   "cell_type": "code",
   "execution_count": 230,
   "id": "a438e90f",
   "metadata": {},
   "outputs": [
    {
     "name": "stdout",
     "output_type": "stream",
     "text": [
      "Books to Scrape\n"
     ]
    }
   ],
   "source": [
    "#!to scrap the title \n",
    "#col-sm-8 h1\n",
    "#title=webD.find_element_by_class_name(\"col-sm-8 h1\")\n",
    "a=webD.find_element(By.TAG_NAME,'a')\n",
    "print(a.text)"
   ]
  },
  {
   "cell_type": "code",
   "execution_count": 244,
   "id": "25395033",
   "metadata": {},
   "outputs": [],
   "source": [
    "#To get all the books category\n",
    "#class_name=webD.find_element_by_class_name(\"side_categories > ul\")\n",
    "#list1=class_name.find_elements_by_tag_name('li')\n",
    "#class_name=webD.find_element_by_class_name(\"side_categories > ul\")"
   ]
  },
  {
   "cell_type": "code",
   "execution_count": 243,
   "id": "2558ec93",
   "metadata": {},
   "outputs": [
    {
     "name": "stdout",
     "output_type": "stream",
     "text": [
      "Books\n",
      "Travel\n",
      "Mystery\n",
      "Historical Fiction\n",
      "Sequential Art\n",
      "Classics\n",
      "Philosophy\n",
      "Romance\n",
      "Womens Fiction\n",
      "Fiction\n",
      "Childrens\n",
      "Religion\n",
      "Nonfiction\n",
      "Music\n",
      "Default\n",
      "Science Fiction\n",
      "Sports and Games\n",
      "Add a comment\n",
      "Fantasy\n",
      "New Adult\n",
      "Young Adult\n",
      "Science\n",
      "Poetry\n",
      "Paranormal\n",
      "Art\n",
      "Psychology\n",
      "Autobiography\n",
      "Parenting\n",
      "Adult Fiction\n",
      "Humor\n",
      "Horror\n",
      "History\n",
      "Food and Drink\n",
      "Christian Fiction\n",
      "Business\n",
      "Biography\n",
      "Thriller\n",
      "Contemporary\n",
      "Spirituality\n",
      "Academic\n",
      "Self Help\n",
      "Historical\n",
      "Christian\n",
      "Suspense\n",
      "Short Stories\n",
      "Novels\n",
      "Health\n",
      "Politics\n",
      "Cultural\n",
      "Erotica\n",
      "Crime\n",
      "Travel\n",
      "Mystery\n",
      "Historical Fiction\n",
      "Sequential Art\n",
      "Classics\n",
      "Philosophy\n",
      "Romance\n",
      "Womens Fiction\n",
      "Fiction\n",
      "Childrens\n",
      "Religion\n",
      "Nonfiction\n",
      "Music\n",
      "Default\n",
      "Science Fiction\n",
      "Sports and Games\n",
      "Add a comment\n",
      "Fantasy\n",
      "New Adult\n",
      "Young Adult\n",
      "Science\n",
      "Poetry\n",
      "Paranormal\n",
      "Art\n",
      "Psychology\n",
      "Autobiography\n",
      "Parenting\n",
      "Adult Fiction\n",
      "Humor\n",
      "Horror\n",
      "History\n",
      "Food and Drink\n",
      "Christian Fiction\n",
      "Business\n",
      "Biography\n",
      "Thriller\n",
      "Contemporary\n",
      "Spirituality\n",
      "Academic\n",
      "Self Help\n",
      "Historical\n",
      "Christian\n",
      "Suspense\n",
      "Short Stories\n",
      "Novels\n",
      "Health\n",
      "Politics\n",
      "Cultural\n",
      "Erotica\n",
      "Crime\n"
     ]
    }
   ],
   "source": [
    "class_name=webD.find_element(By.CLASS_NAME,'side_categories>ul')\n",
    "list1=class_name.find_elements(By.TAG_NAME,'li')\n",
    "for val in list1:\n",
    "    print(val.text)"
   ]
  },
  {
   "cell_type": "code",
   "execution_count": null,
   "id": "f30eeec2",
   "metadata": {},
   "outputs": [],
   "source": []
  }
 ],
 "metadata": {
  "kernelspec": {
   "display_name": "Python 3 (ipykernel)",
   "language": "python",
   "name": "python3"
  },
  "language_info": {
   "codemirror_mode": {
    "name": "ipython",
    "version": 3
   },
   "file_extension": ".py",
   "mimetype": "text/x-python",
   "name": "python",
   "nbconvert_exporter": "python",
   "pygments_lexer": "ipython3",
   "version": "3.11.5"
  }
 },
 "nbformat": 4,
 "nbformat_minor": 5
}
